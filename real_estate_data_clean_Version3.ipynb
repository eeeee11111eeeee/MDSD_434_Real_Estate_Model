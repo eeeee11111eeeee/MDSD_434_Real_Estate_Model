*** Begin Patch
*** Update File: real_estate_data_clean.ipynb
@@
-    "outputs": [
-     {
-      "name": "stdout",
-      "output_type": "stream",
-      "text": [
-       "Starting CSV cleaning process.\n",
-       "Input folder: /Users/evehuang/Downloads/archive/train/train\n",
-       "Output folder: /Users/evehuang/Downloads/clean\n",
-       "Found 47 CSV files to process.\n",
-       "Reading CSV from: /Users/evehuang/Downloads/archive/train/train/40.csv\n",
-       "Cleaning column: '面積（㎡）' for file: 40.csv\n",
-       "Saving cleaned CSV to: /Users/evehuang/Downloads/clean/cleaned_40.csv\n",
-       "Successfully cleaned and saved: cleaned_40.csv\n",
-       ...
-       "Cleaned files are located in: /Users/evehuang/Downloads/clean\n",
-       "\n",
-       "--- Next Steps ---\n",
-       "1. Upload the cleaned CSV files from the output folder to a GCS bucket.\n",
-       "   Example: gsutil cp -r ./cleaned_csvs/* gs://your-gcs-bucket/cleaned_train_data/\n",
-       "2. Load the cleaned files into BigQuery using the explicit schema:\n",
-       "   bq load \\\n",
-       "     --source_format=CSV \\\n",
-       "     --column_name_character_map=V2 \\\n",
-       "     --schema=./table_schema.json \\\n",
-       "     eveonegcp.japan_house_price \\\n",
-       "     gs://your-gcs-bucket/cleaned_train_data/*.csv\n"
-      ]
-     }
-    ],
+    "outputs": [],
@@
-    "source": [
+    "source": [
@@
-    "    # Define your input and output folders\n",
-    "    # Replace './original_csvs' with the path where your original CSVs are stored locally\n",
-    "    input_folder = \"/Users/evehuang/Downloads/archive/train/train\"\n",
-    "    # Replace './cleaned_csvs' with the path where you want to save the cleaned CSVs\n",
-    "    output_folder = \"/Users/evehuang/Downloads/clean\"\n",
-",
-    "    print(f\"Starting CSV cleaning process.\")\n",
-    "    print(f\"Input folder: {os.path.abspath(input_folder)}\")\n",
-    "    print(f\"Output folder: {os.path.abspath(output_folder)}\")\n",
+    "    # Define your input and output folders\n",
+    "    # Prefer environment variables to avoid committing local absolute paths.\n",
+    "    input_folder = os.environ.get('INPUT_FOLDER', './original_csvs')\n",
+    "    output_folder = os.environ.get('OUTPUT_FOLDER', './cleaned_csvs')\n",
+\n+    print(\"Starting CSV cleaning process.\")\n+    print(f\"Input folder: {input_folder}\")\n+    print(f\"Output folder: {output_folder}\")\n*** End Patch